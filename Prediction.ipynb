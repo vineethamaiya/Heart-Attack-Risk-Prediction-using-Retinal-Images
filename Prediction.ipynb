{
 "cells": [
  {
   "cell_type": "code",
   "execution_count": 5,
   "id": "606d81e8",
   "metadata": {},
   "outputs": [
    {
     "ename": "ModuleNotFoundError",
     "evalue": "No module named 'cv2'",
     "output_type": "error",
     "traceback": [
      "\u001b[1;31m---------------------------------------------------------------------------\u001b[0m",
      "\u001b[1;31mModuleNotFoundError\u001b[0m                       Traceback (most recent call last)",
      "Cell \u001b[1;32mIn[5], line 2\u001b[0m\n\u001b[0;32m      1\u001b[0m \u001b[38;5;28;01mimport\u001b[39;00m \u001b[38;5;21;01mnumpy\u001b[39;00m \u001b[38;5;28;01mas\u001b[39;00m \u001b[38;5;21;01mnp\u001b[39;00m\n\u001b[1;32m----> 2\u001b[0m \u001b[38;5;28;01mimport\u001b[39;00m \u001b[38;5;21;01mcv2\u001b[39;00m\n\u001b[0;32m      3\u001b[0m \u001b[38;5;28;01mfrom\u001b[39;00m \u001b[38;5;21;01mPIL\u001b[39;00m \u001b[38;5;28;01mimport\u001b[39;00m Image\n\u001b[0;32m      4\u001b[0m \u001b[38;5;28;01mimport\u001b[39;00m \u001b[38;5;21;01mtensorflow\u001b[39;00m \u001b[38;5;28;01mas\u001b[39;00m \u001b[38;5;21;01mtf\u001b[39;00m\n",
      "\u001b[1;31mModuleNotFoundError\u001b[0m: No module named 'cv2'"
     ]
    }
   ],
   "source": [
    "import numpy as np\n",
    "import cv2\n",
    "from PIL import Image\n",
    "import tensorflow as tf"
   ]
  },
  {
   "cell_type": "code",
   "execution_count": 3,
   "id": "bcd5ec0f",
   "metadata": {},
   "outputs": [],
   "source": [
    "INPUT_SIZE = 244"
   ]
  },
  {
   "cell_type": "code",
   "execution_count": 4,
   "id": "975dc76e",
   "metadata": {},
   "outputs": [],
   "source": [
    "def preprocess_single_image(image_path):\n",
    "    image = cv2.imread(image_path)\n",
    "    image = Image.fromarray(image, 'RGB')\n",
    "    image = image.resize((INPUT_SIZE, INPUT_SIZE))\n",
    "    image = np.array(image) / 255.0\n",
    "    return np.expand_dims(image, axis=0) "
   ]
  },
  {
   "cell_type": "code",
   "execution_count": 5,
   "id": "13a462e1",
   "metadata": {},
   "outputs": [
    {
     "name": "stdout",
     "output_type": "stream",
     "text": [
      "WARNING:tensorflow:From C:\\Users\\Shreyas\\anaconda3\\Lib\\site-packages\\keras\\src\\backend.py:1398: The name tf.executing_eagerly_outside_functions is deprecated. Please use tf.compat.v1.executing_eagerly_outside_functions instead.\n",
      "\n",
      "WARNING:tensorflow:From C:\\Users\\Shreyas\\anaconda3\\Lib\\site-packages\\keras\\src\\layers\\normalization\\batch_normalization.py:979: The name tf.nn.fused_batch_norm is deprecated. Please use tf.compat.v1.nn.fused_batch_norm instead.\n",
      "\n"
     ]
    }
   ],
   "source": [
    "model = tf.keras.models.load_model('heart_attack_prediction_model.h5')"
   ]
  },
  {
   "cell_type": "code",
   "execution_count": 6,
   "id": "959c48a5",
   "metadata": {},
   "outputs": [],
   "source": [
    "image_path = r\"D:\\Project\\Predicting_Cardiovascular_Risk\\dataset\\Moderate\\0efc93ec838b.png\" "
   ]
  },
  {
   "cell_type": "code",
   "execution_count": 7,
   "id": "010dae99",
   "metadata": {},
   "outputs": [],
   "source": [
    "image = preprocess_single_image(image_path)"
   ]
  },
  {
   "cell_type": "code",
   "execution_count": 8,
   "id": "2457562a",
   "metadata": {},
   "outputs": [
    {
     "name": "stdout",
     "output_type": "stream",
     "text": [
      "1/1 [==============================] - 0s 165ms/step\n"
     ]
    }
   ],
   "source": [
    "prediction = model.predict(image)"
   ]
  },
  {
   "cell_type": "code",
   "execution_count": 9,
   "id": "4ab34bcf",
   "metadata": {},
   "outputs": [],
   "source": [
    "predicted_class = np.argmax(prediction)\n",
    "if predicted_class == 0:\n",
    "    risk_level = \"No DR\"\n",
    "elif predicted_class == 1:\n",
    "    risk_level = \"Mild\"\n",
    "elif predicted_class == 2:\n",
    "    risk_level = \"Moderate\"\n",
    "elif predicted_class == 3:\n",
    "    risk_level = \"Severe\"\n",
    "else:\n",
    "    risk_level = \"Proliferative DR\""
   ]
  },
  {
   "cell_type": "code",
   "execution_count": 10,
   "id": "256f08c1",
   "metadata": {},
   "outputs": [
    {
     "name": "stdout",
     "output_type": "stream",
     "text": [
      "Predicted risk level of heart attack: Moderate\n"
     ]
    }
   ],
   "source": [
    "print(\"Predicted risk level of heart attack:\", risk_level)"
   ]
  },
  {
   "cell_type": "code",
   "execution_count": null,
   "id": "a8d61379",
   "metadata": {},
   "outputs": [],
   "source": [
    "import os\n",
    "\n",
    "if os.path.exists('heart_attack_prediction_model.h5'):\n",
    "    print(\"Model file exists!\")\n",
    "else:\n",
    "    print(\"Model file does not exist.\")\n"
   ]
  }
 ],
 "metadata": {
  "kernelspec": {
   "display_name": "Python 3 (ipykernel)",
   "language": "python",
   "name": "python3"
  },
  "language_info": {
   "codemirror_mode": {
    "name": "ipython",
    "version": 3
   },
   "file_extension": ".py",
   "mimetype": "text/x-python",
   "name": "python",
   "nbconvert_exporter": "python",
   "pygments_lexer": "ipython3",
   "version": "3.12.6"
  }
 },
 "nbformat": 4,
 "nbformat_minor": 5
}
